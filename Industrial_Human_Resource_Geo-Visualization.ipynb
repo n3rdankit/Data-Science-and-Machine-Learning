{
  "cells": [
    {
      "cell_type": "markdown",
      "metadata": {
        "id": "view-in-github",
        "colab_type": "text"
      },
      "source": [
        "<a href=\"https://colab.research.google.com/github/n3rdankit/Data-Science-and-Machine-Learning/blob/main/Industrial_Human_Resource_Geo-Visualization.ipynb\" target=\"_parent\"><img src=\"https://colab.research.google.com/assets/colab-badge.svg\" alt=\"Open In Colab\"/></a>"
      ]
    },
    {
      "cell_type": "markdown",
      "source": [
        "# Industrial_Human_Resource_Geo-Visualization"
      ],
      "metadata": {
        "id": "LDV8e5NyF5KK"
      }
    },
    {
      "cell_type": "markdown",
      "source": [
        "Merge all the csv data file provided to you and create dataframe"
      ],
      "metadata": {
        "id": "c-i9i_idjXAs"
      }
    },
    {
      "cell_type": "code",
      "source": [
        "import pandas as pd"
      ],
      "metadata": {
        "id": "Dz3ASedujSiW"
      },
      "execution_count": null,
      "outputs": []
    }
  ],
  "metadata": {
    "colab": {
      "name": "Welcome To Colaboratory",
      "toc_visible": true,
      "provenance": [],
      "include_colab_link": true
    },
    "kernelspec": {
      "display_name": "Python 3",
      "name": "python3"
    }
  },
  "nbformat": 4,
  "nbformat_minor": 0
}